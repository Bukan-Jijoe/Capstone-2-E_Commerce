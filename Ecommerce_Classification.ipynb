{
 "cells": [
  {
   "cell_type": "code",
   "execution_count": 2,
   "metadata": {},
   "outputs": [],
   "source": [
    "# Import Packages\n",
    "\n",
    "import tensorflow as tf\n",
    "from tensorflow import keras\n",
    "import matplotlib as mpl\n",
    "import matplotlib.pyplot as plt\n",
    "import numpy as np  \n",
    "import pandas as pd\n",
    "from sklearn.model_selection import train_test_split\n",
    "from sklearn.metrics import classification_report\n",
    "import os,datetime\n",
    "import IPython\n",
    "import IPython.display\n",
    "import seaborn as sns\n",
    "# from tensorflow.random import set_seed\n",
    "import sklearn,pickle\n",
    "\n",
    "# import tensorflow_addons as tfa \n",
    "\n",
    "# by using same seed with your friends, your friends and you will get the same result after computer generated \"randomness\"\n"
   ]
  },
  {
   "cell_type": "code",
   "execution_count": 3,
   "metadata": {},
   "outputs": [
    {
     "name": "stdout",
     "output_type": "stream",
     "text": [
      "Dataset/ecommerceDataset.csv\n"
     ]
    }
   ],
   "source": [
    "# Data Loading\n",
    "\n",
    "csv_path= 'Dataset/ecommerceDataset.csv'\n",
    "\n",
    "print(csv_path)"
   ]
  },
  {
   "cell_type": "code",
   "execution_count": 4,
   "metadata": {},
   "outputs": [
    {
     "name": "stdout",
     "output_type": "stream",
     "text": [
      "    Category                                     Product Detail\n",
      "0  Household  Paper Plane Design Framed Wall Hanging Motivat...\n",
      "1  Household  SAF 'Floral' Framed Painting (Wood, 30 inch x ...\n",
      "2  Household  SAF 'UV Textured Modern Art Print Framed' Pain...\n",
      "3  Household  SAF Flower Print Framed Painting (Synthetic, 1...\n",
      "4  Household  Incredible Gifts India Wooden Happy Birthday U...\n"
     ]
    }
   ],
   "source": [
    "# Put into a dataframe\n",
    "\n",
    "\n",
    "column_name = ['Category','Product Detail']\n",
    "\n",
    "df = pd.read_csv(csv_path ,names=column_name)  # put the csv into dataframe, since the csv file doesnt have column name, we create a new one\n",
    "\n",
    "\n",
    "print(df.head(5)) # checking the first 5 row "
   ]
  },
  {
   "cell_type": "code",
   "execution_count": 5,
   "metadata": {},
   "outputs": [
    {
     "name": "stdout",
     "output_type": "stream",
     "text": [
      "<class 'pandas.core.frame.DataFrame'>\n",
      "RangeIndex: 50425 entries, 0 to 50424\n",
      "Data columns (total 2 columns):\n",
      " #   Column          Non-Null Count  Dtype \n",
      "---  ------          --------------  ----- \n",
      " 0   Category        50425 non-null  object\n",
      " 1   Product Detail  50424 non-null  object\n",
      "dtypes: object(2)\n",
      "memory usage: 788.0+ KB\n",
      "None\n"
     ]
    }
   ],
   "source": [
    "# Checking the dataset info\n",
    "\n",
    "print(df.info())"
   ]
  },
  {
   "cell_type": "code",
   "execution_count": 6,
   "metadata": {},
   "outputs": [
    {
     "name": "stdout",
     "output_type": "stream",
     "text": [
      "         Category                                     Product Detail\n",
      "count       50425                                              50424\n",
      "unique          4                                              27802\n",
      "top     Household  Think & Grow Rich About the Author NAPOLEON HI...\n",
      "freq        19313                                                 30\n"
     ]
    }
   ],
   "source": [
    "# Dataframe describe part\n",
    "\n",
    "print(df.describe())\n",
    "\n",
    "# There 4 unique categories, with total of 50425"
   ]
  },
  {
   "cell_type": "code",
   "execution_count": 7,
   "metadata": {},
   "outputs": [
    {
     "data": {
      "text/plain": [
       "Product Detail    1\n",
       "Category          0\n",
       "dtype: int64"
      ]
     },
     "execution_count": 7,
     "metadata": {},
     "output_type": "execute_result"
    }
   ],
   "source": [
    "# Checking if there are null values\n",
    "\n",
    "df.isna().sum().sort_values(ascending = False)"
   ]
  },
  {
   "cell_type": "code",
   "execution_count": 8,
   "metadata": {},
   "outputs": [
    {
     "name": "stdout",
     "output_type": "stream",
     "text": [
      "                     Category Product Detail\n",
      "39330  Clothing & Accessories            NaN\n"
     ]
    }
   ],
   "source": [
    "# Checking the null values row\n",
    "\n",
    "null_rows = df[df.isnull().any(axis=1)]\n",
    "print(null_rows)"
   ]
  },
  {
   "cell_type": "code",
   "execution_count": 9,
   "metadata": {},
   "outputs": [
    {
     "name": "stdout",
     "output_type": "stream",
     "text": [
      "<class 'pandas.core.frame.DataFrame'>\n",
      "Index: 50424 entries, 0 to 50424\n",
      "Data columns (total 2 columns):\n",
      " #   Column          Non-Null Count  Dtype \n",
      "---  ------          --------------  ----- \n",
      " 0   Category        50424 non-null  object\n",
      " 1   Product Detail  50424 non-null  object\n",
      "dtypes: object(2)\n",
      "memory usage: 1.2+ MB\n",
      "None\n"
     ]
    }
   ],
   "source": [
    "# Remove Null values\n",
    "\n",
    "df = df.dropna()\n",
    "print(df.info())"
   ]
  },
  {
   "cell_type": "code",
   "execution_count": null,
   "metadata": {},
   "outputs": [
    {
     "name": "stdout",
     "output_type": "stream",
     "text": [
      "Shape of the Data: (50424, 2)\n",
      "Null of the Data: Category          0\n",
      "Product Detail    0\n",
      "dtype: int64\n",
      "Duplication of the Data: 22622\n",
      "Categories:  Category\n",
      "Household                 19313\n",
      "Books                     11820\n",
      "Electronics               10621\n",
      "Clothing & Accessories     8670\n",
      "Name: count, dtype: int64\n"
     ]
    }
   ],
   "source": [
    "# Checking and doing Data Inspection again \n",
    "\n",
    "print(\"Shape of the Data:\", df.shape)\n",
    "print(\"Null of the Data:\", df.isna().sum())\n",
    "print(\"Duplication of the Data:\", df.duplicated().sum())\n",
    "print(\"Categories: \", df['Category'].value_counts())"
   ]
  },
  {
   "cell_type": "code",
   "execution_count": null,
   "metadata": {},
   "outputs": [
    {
     "name": "stdout",
     "output_type": "stream",
     "text": [
      "[3 3 3 3 3]\n"
     ]
    }
   ],
   "source": [
    "# Data Preprocessing\n",
    "# Seperate the feature and the label\n",
    "\n",
    "import sklearn.preprocessing\n",
    "\n",
    "\n",
    "feature = df['Product Detail'].values\n",
    "\n",
    "label = df['Category'].values\n",
    "\n",
    "# Perform Label Encoder on category column\n",
    "\n",
    "le = sklearn.preprocessing.LabelEncoder()\n",
    "\n",
    "label_encoded = le.fit_transform(label)\n",
    "\n",
    "print(label_encoded[:5])"
   ]
  },
  {
   "cell_type": "code",
   "execution_count": null,
   "metadata": {},
   "outputs": [
    {
     "name": "stdout",
     "output_type": "stream",
     "text": [
      "['Books' 'Clothing & Accessories' 'Electronics' 'Household']\n"
     ]
    }
   ],
   "source": [
    "# Inverse Transfrom using Label Encoder (Testing to see which one which)\n",
    "\n",
    "sample_category = le.inverse_transform([0,1,2,3])\n",
    "\n",
    "print(sample_category)"
   ]
  },
  {
   "cell_type": "code",
   "execution_count": null,
   "metadata": {},
   "outputs": [],
   "source": [
    "# Perform Train-Val-Test Split\n",
    "\n",
    "seed = 42\n",
    "\n",
    "X_train, X_split, y_train, y_split = train_test_split(feature, label_encoded, train_size=0.7, random_state=seed )   # Spliting dataset into 70% for training and remaining 30% for further splitting\n",
    "\n",
    "X_val, X_test, y_val, y_test = train_test_split(X_split, y_split, train_size=0.5, random_state=seed )   # Spliting dataset equally for validation and testing"
   ]
  },
  {
   "cell_type": "code",
   "execution_count": null,
   "metadata": {},
   "outputs": [],
   "source": [
    "# NLP \n",
    "# Tokenization\n",
    "\n",
    "tokenizer = keras.layers.TextVectorization(max_tokens=5000, output_sequence_length=200) # Tokenizer Process\n",
    "\n",
    "tokenizer.adapt(X_train)    # Tokenizer Process to X train"
   ]
  },
  {
   "cell_type": "code",
   "execution_count": 16,
   "metadata": {},
   "outputs": [
    {
     "name": "stdout",
     "output_type": "stream",
     "text": [
      "[\"Acer 18.5 inch (46.99 cm) LED Monitor - EB192Q (Black) Specifications LED 18.5 '' ACER EB192Qb (B). Brand ACER Model EB192Qb Response Time 5 ms Max. Resolution 1366x768 @ 60Hz Contrast Ratio 100 million: 1 (ACM). Brightness 200 nits (cd / m2). Display 18.5 inch Color System 16.7 m POWER Supply (100V-240V): Internal Power Consumption (Off): 0.45W Power Consumption (Sleep): 14W Power Consumption (on): 18W. VGA Port 1 Port.\"\n",
      " 'SOUMIK ELECTRICALS 5-inch Subwoofer with Maximum 4 ohm(100 W) Thisb product is from the brand SOUMIK ELECTRICALS it presents a 5 Inch subwoofer with maximum 4 ohm and comes with 100W. Use in your home theatre.']\n",
      "tf.Tensor(\n",
      "[[3365 4947  173    1  147  152  622    1   55  595  152 4947 3365    1\n",
      "  1613  151 3365  535    1 1478   61  105 1551  739  649    1    1 1619\n",
      "  1972  115 1539   36    1 1495 1270    1 1373 3153  259 4947  173   65\n",
      "   146    1  805   59  781    1 1290   59 1111  253    1   59 1111  943\n",
      "     1   59 1111   15    1 1210  377   36  377    0    0    0    0    0\n",
      "     0    0    0    0    0    0    0    0    0    0    0    0    0    0\n",
      "     0    0    0    0    0    0    0    0    0    0    0    0    0    0\n",
      "     0    0    0    0    0    0    0    0    0    0    0    0    0    0\n",
      "     0    0    0    0    0    0    0    0    0    0    0    0    0    0\n",
      "     0    0    0    0    0    0    0    0    0    0    0    0    0    0\n",
      "     0    0    0    0    0    0    0    0    0    0    0    0    0    0\n",
      "     0    0    0    0    0    0    0    0    0    0    0    0    0    0\n",
      "     0    0    0    0    0    0    0    0    0    0    0    0    0    0\n",
      "     0    0    0    0    0    0    0    0    0    0    0    0    0    0\n",
      "     0    0    0    0]\n",
      " [   1    1    1 2745    9  472   91    1  614    1   43   10   17    2\n",
      "   151    1    1   13 1131    6  105  173 2745    9  472   91    1    3\n",
      "    69    9    1   32    8   11   50 3043    0    0    0    0    0    0\n",
      "     0    0    0    0    0    0    0    0    0    0    0    0    0    0\n",
      "     0    0    0    0    0    0    0    0    0    0    0    0    0    0\n",
      "     0    0    0    0    0    0    0    0    0    0    0    0    0    0\n",
      "     0    0    0    0    0    0    0    0    0    0    0    0    0    0\n",
      "     0    0    0    0    0    0    0    0    0    0    0    0    0    0\n",
      "     0    0    0    0    0    0    0    0    0    0    0    0    0    0\n",
      "     0    0    0    0    0    0    0    0    0    0    0    0    0    0\n",
      "     0    0    0    0    0    0    0    0    0    0    0    0    0    0\n",
      "     0    0    0    0    0    0    0    0    0    0    0    0    0    0\n",
      "     0    0    0    0    0    0    0    0    0    0    0    0    0    0\n",
      "     0    0    0    0    0    0    0    0    0    0    0    0    0    0\n",
      "     0    0    0    0]], shape=(2, 200), dtype=int64)\n"
     ]
    }
   ],
   "source": [
    "# Testing how the tokenizer works\n",
    "\n",
    "sample_tokens = tokenizer(X_train[:2])\n",
    "print(X_train[:2])\n",
    "print(sample_tokens)"
   ]
  },
  {
   "cell_type": "code",
   "execution_count": null,
   "metadata": {},
   "outputs": [],
   "source": [
    "# Embedding \n",
    "\n",
    "embedding = keras.layers.Embedding(5000, 64)    # Embedding process"
   ]
  },
  {
   "cell_type": "code",
   "execution_count": null,
   "metadata": {},
   "outputs": [],
   "source": [
    "# Model Development\n",
    "\n",
    "model = keras.Sequential()  # Sequential layer\n",
    "\n",
    "# NLP Layers\n",
    "\n",
    "model.add(tokenizer)    # Tokenizer layer\n",
    "model.add(embedding)    # Embedding layer\n",
    "\n",
    "# RNN Layers\n",
    "\n",
    "model.add(keras.layers.Bidirectional(keras.layers.LSTM(32, return_sequences=False)))    # Bidirectional LSTM layer\n",
    "# model.add(keras.layers.Bidirectional(keras.layers.LSTM(16, return_sequences=True)))\n",
    "# model.add(keras.layers.Dropout(0.3))\n",
    "model.add(keras.layers.Dense(len(df[\"Category\"].unique()), activation=\"softmax\"))   # Output layer\n",
    "\n"
   ]
  },
  {
   "cell_type": "code",
   "execution_count": null,
   "metadata": {},
   "outputs": [],
   "source": [
    "# Compile the model\n",
    "\n",
    "model.compile(optimizer='adam', loss='sparse_categorical_crossentropy', metrics= ['accuracy'])\n"
   ]
  },
  {
   "cell_type": "code",
   "execution_count": null,
   "metadata": {},
   "outputs": [
    {
     "name": "stdout",
     "output_type": "stream",
     "text": [
      "Epoch 1/10\n",
      "\u001b[1m1103/1103\u001b[0m \u001b[32m━━━━━━━━━━━━━━━━━━━━\u001b[0m\u001b[37m\u001b[0m \u001b[1m52s\u001b[0m 45ms/step - accuracy: 0.8037 - loss: 0.5355 - val_accuracy: 0.9622 - val_loss: 0.1428\n",
      "Epoch 2/10\n",
      "\u001b[1m1103/1103\u001b[0m \u001b[32m━━━━━━━━━━━━━━━━━━━━\u001b[0m\u001b[37m\u001b[0m \u001b[1m55s\u001b[0m 50ms/step - accuracy: 0.9730 - loss: 0.1038 - val_accuracy: 0.9680 - val_loss: 0.1157\n",
      "Epoch 3/10\n",
      "\u001b[1m1103/1103\u001b[0m \u001b[32m━━━━━━━━━━━━━━━━━━━━\u001b[0m\u001b[37m\u001b[0m \u001b[1m46s\u001b[0m 41ms/step - accuracy: 0.9821 - loss: 0.0706 - val_accuracy: 0.9733 - val_loss: 0.1060\n",
      "Epoch 4/10\n",
      "\u001b[1m1103/1103\u001b[0m \u001b[32m━━━━━━━━━━━━━━━━━━━━\u001b[0m\u001b[37m\u001b[0m \u001b[1m49s\u001b[0m 45ms/step - accuracy: 0.9867 - loss: 0.0481 - val_accuracy: 0.9717 - val_loss: 0.1125\n",
      "Epoch 5/10\n",
      "\u001b[1m1103/1103\u001b[0m \u001b[32m━━━━━━━━━━━━━━━━━━━━\u001b[0m\u001b[37m\u001b[0m \u001b[1m51s\u001b[0m 47ms/step - accuracy: 0.9909 - loss: 0.0334 - val_accuracy: 0.9716 - val_loss: 0.1214\n",
      "Epoch 5: early stopping\n"
     ]
    }
   ],
   "source": [
    "# Model Training\n",
    "\n",
    "logpath = \"TensorBoard/Ecommerce\" + datetime.datetime.now().strftime(\"%Y%m%d-%H%M%S\")\n",
    "tb = keras.callbacks.TensorBoard(logpath)\n",
    "\n",
    "es = keras.callbacks.EarlyStopping(patience=2, verbose=3)\n",
    "\n",
    "# Model Training Arc\n",
    "\n",
    "history = model.fit(\n",
    "    X_train,    \n",
    "    y_train,\n",
    "    validation_data =(X_val,y_val),\n",
    "    epochs = 10,\n",
    "    batch_size = 32,\n",
    "    callbacks = [tb, es]\n",
    "    )"
   ]
  },
  {
   "cell_type": "code",
   "execution_count": null,
   "metadata": {},
   "outputs": [
    {
     "data": {
      "text/html": [
       "<pre style=\"white-space:pre;overflow-x:auto;line-height:normal;font-family:Menlo,'DejaVu Sans Mono',consolas,'Courier New',monospace\"><span style=\"font-weight: bold\">Model: \"sequential\"</span>\n",
       "</pre>\n"
      ],
      "text/plain": [
       "\u001b[1mModel: \"sequential\"\u001b[0m\n"
      ]
     },
     "metadata": {},
     "output_type": "display_data"
    },
    {
     "data": {
      "text/html": [
       "<pre style=\"white-space:pre;overflow-x:auto;line-height:normal;font-family:Menlo,'DejaVu Sans Mono',consolas,'Courier New',monospace\">┏━━━━━━━━━━━━━━━━━━━━━━━━━━━━━━━━━┳━━━━━━━━━━━━━━━━━━━━━━━━┳━━━━━━━━━━━━━━━┓\n",
       "┃<span style=\"font-weight: bold\"> Layer (type)                    </span>┃<span style=\"font-weight: bold\"> Output Shape           </span>┃<span style=\"font-weight: bold\">       Param # </span>┃\n",
       "┡━━━━━━━━━━━━━━━━━━━━━━━━━━━━━━━━━╇━━━━━━━━━━━━━━━━━━━━━━━━╇━━━━━━━━━━━━━━━┩\n",
       "│ text_vectorization              │ (<span style=\"color: #00af00; text-decoration-color: #00af00\">32</span>, <span style=\"color: #00af00; text-decoration-color: #00af00\">200</span>)              │             <span style=\"color: #00af00; text-decoration-color: #00af00\">0</span> │\n",
       "│ (<span style=\"color: #0087ff; text-decoration-color: #0087ff\">TextVectorization</span>)             │                        │               │\n",
       "├─────────────────────────────────┼────────────────────────┼───────────────┤\n",
       "│ embedding (<span style=\"color: #0087ff; text-decoration-color: #0087ff\">Embedding</span>)           │ (<span style=\"color: #00af00; text-decoration-color: #00af00\">32</span>, <span style=\"color: #00af00; text-decoration-color: #00af00\">200</span>, <span style=\"color: #00af00; text-decoration-color: #00af00\">64</span>)          │       <span style=\"color: #00af00; text-decoration-color: #00af00\">320,000</span> │\n",
       "├─────────────────────────────────┼────────────────────────┼───────────────┤\n",
       "│ bidirectional (<span style=\"color: #0087ff; text-decoration-color: #0087ff\">Bidirectional</span>)   │ (<span style=\"color: #00af00; text-decoration-color: #00af00\">32</span>, <span style=\"color: #00af00; text-decoration-color: #00af00\">64</span>)               │        <span style=\"color: #00af00; text-decoration-color: #00af00\">24,832</span> │\n",
       "├─────────────────────────────────┼────────────────────────┼───────────────┤\n",
       "│ dense (<span style=\"color: #0087ff; text-decoration-color: #0087ff\">Dense</span>)                   │ (<span style=\"color: #00af00; text-decoration-color: #00af00\">32</span>, <span style=\"color: #00af00; text-decoration-color: #00af00\">4</span>)                │           <span style=\"color: #00af00; text-decoration-color: #00af00\">260</span> │\n",
       "└─────────────────────────────────┴────────────────────────┴───────────────┘\n",
       "</pre>\n"
      ],
      "text/plain": [
       "┏━━━━━━━━━━━━━━━━━━━━━━━━━━━━━━━━━┳━━━━━━━━━━━━━━━━━━━━━━━━┳━━━━━━━━━━━━━━━┓\n",
       "┃\u001b[1m \u001b[0m\u001b[1mLayer (type)                   \u001b[0m\u001b[1m \u001b[0m┃\u001b[1m \u001b[0m\u001b[1mOutput Shape          \u001b[0m\u001b[1m \u001b[0m┃\u001b[1m \u001b[0m\u001b[1m      Param #\u001b[0m\u001b[1m \u001b[0m┃\n",
       "┡━━━━━━━━━━━━━━━━━━━━━━━━━━━━━━━━━╇━━━━━━━━━━━━━━━━━━━━━━━━╇━━━━━━━━━━━━━━━┩\n",
       "│ text_vectorization              │ (\u001b[38;5;34m32\u001b[0m, \u001b[38;5;34m200\u001b[0m)              │             \u001b[38;5;34m0\u001b[0m │\n",
       "│ (\u001b[38;5;33mTextVectorization\u001b[0m)             │                        │               │\n",
       "├─────────────────────────────────┼────────────────────────┼───────────────┤\n",
       "│ embedding (\u001b[38;5;33mEmbedding\u001b[0m)           │ (\u001b[38;5;34m32\u001b[0m, \u001b[38;5;34m200\u001b[0m, \u001b[38;5;34m64\u001b[0m)          │       \u001b[38;5;34m320,000\u001b[0m │\n",
       "├─────────────────────────────────┼────────────────────────┼───────────────┤\n",
       "│ bidirectional (\u001b[38;5;33mBidirectional\u001b[0m)   │ (\u001b[38;5;34m32\u001b[0m, \u001b[38;5;34m64\u001b[0m)               │        \u001b[38;5;34m24,832\u001b[0m │\n",
       "├─────────────────────────────────┼────────────────────────┼───────────────┤\n",
       "│ dense (\u001b[38;5;33mDense\u001b[0m)                   │ (\u001b[38;5;34m32\u001b[0m, \u001b[38;5;34m4\u001b[0m)                │           \u001b[38;5;34m260\u001b[0m │\n",
       "└─────────────────────────────────┴────────────────────────┴───────────────┘\n"
      ]
     },
     "metadata": {},
     "output_type": "display_data"
    },
    {
     "data": {
      "text/html": [
       "<pre style=\"white-space:pre;overflow-x:auto;line-height:normal;font-family:Menlo,'DejaVu Sans Mono',consolas,'Courier New',monospace\"><span style=\"font-weight: bold\"> Total params: </span><span style=\"color: #00af00; text-decoration-color: #00af00\">1,035,278</span> (3.95 MB)\n",
       "</pre>\n"
      ],
      "text/plain": [
       "\u001b[1m Total params: \u001b[0m\u001b[38;5;34m1,035,278\u001b[0m (3.95 MB)\n"
      ]
     },
     "metadata": {},
     "output_type": "display_data"
    },
    {
     "data": {
      "text/html": [
       "<pre style=\"white-space:pre;overflow-x:auto;line-height:normal;font-family:Menlo,'DejaVu Sans Mono',consolas,'Courier New',monospace\"><span style=\"font-weight: bold\"> Trainable params: </span><span style=\"color: #00af00; text-decoration-color: #00af00\">345,092</span> (1.32 MB)\n",
       "</pre>\n"
      ],
      "text/plain": [
       "\u001b[1m Trainable params: \u001b[0m\u001b[38;5;34m345,092\u001b[0m (1.32 MB)\n"
      ]
     },
     "metadata": {},
     "output_type": "display_data"
    },
    {
     "data": {
      "text/html": [
       "<pre style=\"white-space:pre;overflow-x:auto;line-height:normal;font-family:Menlo,'DejaVu Sans Mono',consolas,'Courier New',monospace\"><span style=\"font-weight: bold\"> Non-trainable params: </span><span style=\"color: #00af00; text-decoration-color: #00af00\">0</span> (0.00 B)\n",
       "</pre>\n"
      ],
      "text/plain": [
       "\u001b[1m Non-trainable params: \u001b[0m\u001b[38;5;34m0\u001b[0m (0.00 B)\n"
      ]
     },
     "metadata": {},
     "output_type": "display_data"
    },
    {
     "data": {
      "text/html": [
       "<pre style=\"white-space:pre;overflow-x:auto;line-height:normal;font-family:Menlo,'DejaVu Sans Mono',consolas,'Courier New',monospace\"><span style=\"font-weight: bold\"> Optimizer params: </span><span style=\"color: #00af00; text-decoration-color: #00af00\">690,186</span> (2.63 MB)\n",
       "</pre>\n"
      ],
      "text/plain": [
       "\u001b[1m Optimizer params: \u001b[0m\u001b[38;5;34m690,186\u001b[0m (2.63 MB)\n"
      ]
     },
     "metadata": {},
     "output_type": "display_data"
    },
    {
     "data": {
      "image/png": "[encoded data removed]",
      "text/plain": [
       "<IPython.core.display.Image object>"
      ]
     },
     "execution_count": 40,
     "metadata": {},
     "output_type": "execute_result"
    }
   ],
   "source": [
    "# The model architecture\n",
    "\n",
    "model.summary() # short summary\n",
    "keras.utils.plot_model(model, show_shapes=True) # to show the flow"
   ]
  },
  {
   "cell_type": "code",
   "execution_count": null,
   "metadata": {},
   "outputs": [
    {
     "name": "stdout",
     "output_type": "stream",
     "text": [
      "\u001b[1m237/237\u001b[0m \u001b[32m━━━━━━━━━━━━━━━━━━━━\u001b[0m\u001b[37m\u001b[0m \u001b[1m3s\u001b[0m 11ms/step - accuracy: 0.9761 - loss: 0.1046\n",
      "\n",
      "This is the accuracy for this model :0.9713114500045776\n",
      "\n",
      "This is the loss for this model :0.12985114753246307\n"
     ]
    }
   ],
   "source": [
    "# Evaluation of the model\n",
    "\n",
    "evaluation = model.evaluate(X_test, y_test) # Evaluation\n",
    "\n",
    "print(f\"\\nThis is the accuracy for this model :{evaluation[1]}\")\n",
    "print(f\"\\nThis is the loss for this model :{evaluation[0]}\")\n"
   ]
  },
  {
   "cell_type": "code",
   "execution_count": null,
   "metadata": {},
   "outputs": [
    {
     "name": "stdout",
     "output_type": "stream",
     "text": [
      "\u001b[1m237/237\u001b[0m \u001b[32m━━━━━━━━━━━━━━━━━━━━\u001b[0m\u001b[37m\u001b[0m \u001b[1m3s\u001b[0m 11ms/step\n",
      "              precision    recall  f1-score   support\n",
      "\n",
      "           0       0.97      0.97      0.97      1756\n",
      "           1       0.98      0.97      0.98      1312\n",
      "           2       0.96      0.97      0.96      1560\n",
      "           3       0.97      0.97      0.97      2936\n",
      "\n",
      "    accuracy                           0.97      7564\n",
      "   macro avg       0.97      0.97      0.97      7564\n",
      "weighted avg       0.97      0.97      0.97      7564\n",
      "\n",
      "This is the F1Score for this model :0.9713222993632258\n"
     ]
    }
   ],
   "source": [
    "# F1 Score using Classification Report \n",
    "\n",
    "predictions1 = model.predict(X_test)\n",
    "predictions1_index = np.argmax(predictions1, axis=1)\n",
    "\n",
    "model_report = classification_report(y_test, predictions1_index)    # Classification report\n",
    "print(model_report)\n",
    "\n",
    "model_report1 = classification_report(y_test, predictions1_index, output_dict=True) # Classification report with output dictionary\n",
    "\n",
    "\n",
    "f1score = model_report1['macro avg']['f1-score']\n",
    "print(f\"This is the F1Score for this model :{f1score}\") # the F1Score value for this model\n",
    "\n"
   ]
  },
  {
   "cell_type": "code",
   "execution_count": null,
   "metadata": {},
   "outputs": [
    {
     "name": "stdout",
     "output_type": "stream",
     "text": [
      "\u001b[1m1/1\u001b[0m \u001b[32m━━━━━━━━━━━━━━━━━━━━\u001b[0m\u001b[37m\u001b[0m \u001b[1m0s\u001b[0m 33ms/step\n",
      "\n",
      "The predicted category: ['Books' 'Household' 'Household' 'Clothing & Accessories'\n",
      " 'Clothing & Accessories' 'Clothing & Accessories' 'Books' 'Household'\n",
      " 'Household' 'Household' 'Household' 'Household' 'Household' 'Electronics'\n",
      " 'Household' 'Household' 'Household' 'Household' 'Clothing & Accessories'\n",
      " 'Clothing & Accessories']\n",
      "\n",
      "The real category: ['Books' 'Household' 'Household' 'Clothing & Accessories'\n",
      " 'Clothing & Accessories' 'Clothing & Accessories' 'Books' 'Household'\n",
      " 'Household' 'Household' 'Household' 'Household' 'Household' 'Electronics'\n",
      " 'Household' 'Household' 'Household' 'Household' 'Clothing & Accessories'\n",
      " 'Clothing & Accessories']\n"
     ]
    }
   ],
   "source": [
    "# Use the model to make prediction (inference)\n",
    "\n",
    "predictions = model.predict(X_test[:20])\n",
    "class_predictions = le.inverse_transform(np.argmax(predictions, axis=1))    # inverse transform to get the label value from encoder\n",
    "\n",
    "print(f\"\\nThe predicted category: {class_predictions}\")             # Comparing the result between real and predicition values\n",
    "\n",
    "print(f\"\\nThe real category: {le.inverse_transform(y_test[:20])}\")   # Comparing the result between real and predicition values\n"
   ]
  },
  {
   "cell_type": "code",
   "execution_count": 29,
   "metadata": {},
   "outputs": [],
   "source": [
    "# To save the model tokenizer\n",
    "\n",
    "with open(\"tokenizer.json\",\"wb\") as f:\n",
    "    pickle.dump(tokenizer, f)\n",
    "\n",
    "with open(\"label_encoder.json\",\"wb\") as f:\n",
    "    pickle.dump(le, f)"
   ]
  },
  {
   "cell_type": "code",
   "execution_count": 30,
   "metadata": {},
   "outputs": [],
   "source": [
    "# To the save Model\n",
    "\n",
    "Model_path = os.path.join(os.getcwd(),'Model','ecommerce_model.h5')\n",
    "with open (Model_path,\"wb\") as file:\n",
    "    pickle.dump('ecommerce_model.h5',file)"
   ]
  }
 ],
 "metadata": {
  "kernelspec": {
   "display_name": "tensorflow_cpu",
   "language": "python",
   "name": "python3"
  },
  "language_info": {
   "codemirror_mode": {
    "name": "ipython",
    "version": 3
   },
   "file_extension": ".py",
   "mimetype": "text/x-python",
   "name": "python",
   "nbconvert_exporter": "python",
   "pygments_lexer": "ipython3",
   "version": "3.12.7"
  }
 },
 "nbformat": 4,
 "nbformat_minor": 2
}
